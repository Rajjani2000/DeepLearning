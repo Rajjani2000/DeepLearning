{
 "cells": [
  {
   "cell_type": "code",
   "execution_count": null,
   "id": "61c5bc9b",
   "metadata": {},
   "outputs": [],
   "source": [
    "# # AlexNet model Concept :-\n",
    " \n",
    "# 1.  has Sereis of layers that classified object within them\n",
    "# 2.  has 5 layers\n",
    "\n",
    "\n",
    "# I/P Layer :- (Takes images as input and resize by 227 * 227)\n",
    "\n",
    "\n",
    "# Convolutional Layer :- (Extract the featurtes from images texture, pattern, edges and resolution)\n",
    "\n",
    "\n",
    "# Re LU activation Layer :- (mathematical function neglect negative value to 0 and positive unchnaged)\n",
    "                            # Detect and Learn Complex Problem                             \n",
    "\n",
    "\n",
    "# Pooling Layer :- Optimize the Image and Size\n",
    "\n",
    "# Fully Connected Layer :- that classified image to its categories"
   ]
  },
  {
   "cell_type": "code",
   "execution_count": 1,
   "id": "b87eb78d",
   "metadata": {},
   "outputs": [],
   "source": [
    "#  Import Necessary Library\n",
    "import torch\n",
    "from torchvision import models, transforms\n",
    "from PIL import Image"
   ]
  },
  {
   "cell_type": "code",
   "execution_count": 2,
   "id": "1c639c48",
   "metadata": {},
   "outputs": [
    {
     "name": "stderr",
     "output_type": "stream",
     "text": [
      "/Users/rajjani/opt/anaconda3/lib/python3.9/site-packages/torchvision/models/_utils.py:208: UserWarning: The parameter 'pretrained' is deprecated since 0.13 and may be removed in the future, please use 'weights' instead.\n",
      "  warnings.warn(\n",
      "/Users/rajjani/opt/anaconda3/lib/python3.9/site-packages/torchvision/models/_utils.py:223: UserWarning: Arguments other than a weight enum or `None` for 'weights' are deprecated since 0.13 and may be removed in the future. The current behavior is equivalent to passing `weights=AlexNet_Weights.IMAGENET1K_V1`. You can also use `weights=AlexNet_Weights.DEFAULT` to get the most up-to-date weights.\n",
      "  warnings.warn(msg)\n",
      "Downloading: \"https://download.pytorch.org/models/alexnet-owt-7be5be79.pth\" to /Users/rajjani/.cache/torch/hub/checkpoints/alexnet-owt-7be5be79.pth\n",
      "100%|████████████████████████████████████████| 233M/233M [00:06<00:00, 40.5MB/s]\n"
     ]
    },
    {
     "data": {
      "text/plain": [
       "AlexNet(\n",
       "  (features): Sequential(\n",
       "    (0): Conv2d(3, 64, kernel_size=(11, 11), stride=(4, 4), padding=(2, 2))\n",
       "    (1): ReLU(inplace=True)\n",
       "    (2): MaxPool2d(kernel_size=3, stride=2, padding=0, dilation=1, ceil_mode=False)\n",
       "    (3): Conv2d(64, 192, kernel_size=(5, 5), stride=(1, 1), padding=(2, 2))\n",
       "    (4): ReLU(inplace=True)\n",
       "    (5): MaxPool2d(kernel_size=3, stride=2, padding=0, dilation=1, ceil_mode=False)\n",
       "    (6): Conv2d(192, 384, kernel_size=(3, 3), stride=(1, 1), padding=(1, 1))\n",
       "    (7): ReLU(inplace=True)\n",
       "    (8): Conv2d(384, 256, kernel_size=(3, 3), stride=(1, 1), padding=(1, 1))\n",
       "    (9): ReLU(inplace=True)\n",
       "    (10): Conv2d(256, 256, kernel_size=(3, 3), stride=(1, 1), padding=(1, 1))\n",
       "    (11): ReLU(inplace=True)\n",
       "    (12): MaxPool2d(kernel_size=3, stride=2, padding=0, dilation=1, ceil_mode=False)\n",
       "  )\n",
       "  (avgpool): AdaptiveAvgPool2d(output_size=(6, 6))\n",
       "  (classifier): Sequential(\n",
       "    (0): Dropout(p=0.5, inplace=False)\n",
       "    (1): Linear(in_features=9216, out_features=4096, bias=True)\n",
       "    (2): ReLU(inplace=True)\n",
       "    (3): Dropout(p=0.5, inplace=False)\n",
       "    (4): Linear(in_features=4096, out_features=4096, bias=True)\n",
       "    (5): ReLU(inplace=True)\n",
       "    (6): Linear(in_features=4096, out_features=1000, bias=True)\n",
       "  )\n",
       ")"
      ]
     },
     "execution_count": 2,
     "metadata": {},
     "output_type": "execute_result"
    }
   ],
   "source": [
    "# Step 1: Load Pre-trained AlexNet model\n",
    "model = models.alexnet(pretrained=True)  # Load the pre-trained AlexNet model\n",
    "model.eval()  # Set the model to evaluation mode (important for inference)"
   ]
  },
  {
   "cell_type": "code",
   "execution_count": 4,
   "id": "b54409dd",
   "metadata": {},
   "outputs": [],
   "source": [
    "# Step 2: Define Preprocessing for the image (Resize, Normalize, etc.)\n",
    "preprocess = transforms.Compose([\n",
    "    transforms.Resize((224, 224)),  # Resize the image to 224x224 (required by AlexNet)\n",
    "    transforms.ToTensor(),  # Convert the image to a tensor\n",
    "    transforms.Normalize(mean=[0.485, 0.456, 0.406], std=[0.229, 0.224, 0.225])  # Normalize using ImageNet mean and std\n",
    "])\n"
   ]
  },
  {
   "cell_type": "code",
   "execution_count": 9,
   "id": "77aed131",
   "metadata": {},
   "outputs": [],
   "source": [
    "# Step 3: Function to Load and Preprocess the Image\n",
    "def process_image(image_path):\n",
    "    # Load the image\n",
    "    image = Image.open(image_path)\n",
    "    # Apply transformations\n",
    "    image = preprocess(image)\n",
    "    # Add batch dimension (model expects a batch of images)\n",
    "    image = image.unsqueeze(0)\n",
    "    return image"
   ]
  },
  {
   "cell_type": "code",
   "execution_count": 10,
   "id": "86ba178d",
   "metadata": {},
   "outputs": [],
   "source": [
    "\n",
    "# Step 4: Make Prediction\n",
    "def predict(image_path):\n",
    "    # Preprocess the image\n",
    "    image = process_image(image_path)\n",
    "    \n",
    "    # Perform forward pass through the model to get predictions\n",
    "    with torch.no_grad():  # No need to compute gradients for inference\n",
    "        outputs = model(image)\n",
    "    \n",
    "    # Get the index of the class with the highest score\n",
    "    _, predicted_class = outputs.max(1)\n",
    "    \n",
    "    # Return the predicted class index\n",
    "    return predicted_class.item()"
   ]
  },
  {
   "cell_type": "code",
   "execution_count": 12,
   "id": "6e5b17ba",
   "metadata": {},
   "outputs": [],
   "source": [
    "\n",
    "# Step 5: Define Labels for ImageNet\n",
    "def load_labels(labels_path=\"imagenet_classes.txt\"):\n",
    "    with open(labels_path) as f:\n",
    "        labels = [line.strip() for line in f.readlines()]\n",
    "    return labels\n"
   ]
  },
  {
   "cell_type": "code",
   "execution_count": 15,
   "id": "f5429f52",
   "metadata": {},
   "outputs": [
    {
     "name": "stdout",
     "output_type": "stream",
     "text": [
      "Predicted label: 208, 204, Lhasa\n"
     ]
    }
   ],
   "source": [
    "# Step 6: Load the Image and Predict\n",
    "if __name__ == \"__main__\":\n",
    "    labels = load_labels()  # Load the ImageNet class labels\n",
    "    image_path = \"dog.jpeg\"  # Path to your image\n",
    "\n",
    "    predicted_class_idx = predict(image_path)  # Get the predicted class index\n",
    "    # Output the predicted label\n",
    "    # Output the predicted label\n",
    "    print(f\"Predicted label: {predicted_class_idx}, {labels[predicted_class_idx]}\")\n"
   ]
  },
  {
   "cell_type": "code",
   "execution_count": null,
   "id": "a10f2f67",
   "metadata": {},
   "outputs": [],
   "source": []
  }
 ],
 "metadata": {
  "kernelspec": {
   "display_name": "Python 3 (ipykernel)",
   "language": "python",
   "name": "python3"
  },
  "language_info": {
   "codemirror_mode": {
    "name": "ipython",
    "version": 3
   },
   "file_extension": ".py",
   "mimetype": "text/x-python",
   "name": "python",
   "nbconvert_exporter": "python",
   "pygments_lexer": "ipython3",
   "version": "3.9.13"
  }
 },
 "nbformat": 4,
 "nbformat_minor": 5
}
